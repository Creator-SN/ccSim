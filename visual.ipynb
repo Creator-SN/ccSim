{
 "cells": [
  {
   "cell_type": "markdown",
   "metadata": {},
   "source": [
    "### 分析句子长度对模型性能的影响"
   ]
  },
  {
   "cell_type": "code",
   "execution_count": 59,
   "metadata": {},
   "outputs": [
    {
     "name": "stdout",
     "output_type": "stream",
     "text": [
      "<=25: count: 0, rmse: nan\n",
      "<=50: count: 2, rmse: 0.133\n",
      "<=75: count: 84, rmse: 0.165\n",
      "<=100: count: 14, rmse: 0.183\n",
      "<=125: count: 0, rmse: nan\n",
      "<=150: count: 0, rmse: nan\n",
      "<=175: count: 0, rmse: nan\n",
      "<=200: count: 0, rmse: nan\n",
      "<=999: count: 0, rmse: nan\n"
     ]
    }
   ],
   "source": [
    "# %%\n",
    "import json\n",
    "import math\n",
    "import numpy as np\n",
    "\n",
    "def RMSE(x, y):\n",
    "    return (x - y) ** 2\n",
    "\n",
    "\n",
    "with open('./dataset/CHIP-STS/CHIP-STS_dev.json') as f:\n",
    "    ori_list = f.read()\n",
    "ori_list = json.loads(ori_list)\n",
    "\n",
    "with open('./data_record/SAS_SFR_msim/predict_gold_sota.csv') as f:\n",
    "    pred_gold_list = f.read()\n",
    "    pred_gold_list = pred_gold_list.split('\\n')\n",
    "    if pred_gold_list[-1] == '':\n",
    "        pred_gold_list = pred_gold_list[:-1]\n",
    "\n",
    "slot = {\n",
    "    # 10: {\n",
    "    #     'RMSE': [],\n",
    "    #     'count': 0\n",
    "    # },\n",
    "    25: {\n",
    "        'RMSE': [],\n",
    "        'count': 0\n",
    "    },\n",
    "    50: {\n",
    "        'RMSE': [],\n",
    "        'count': 0\n",
    "    },\n",
    "    75: {\n",
    "        'RMSE': [],\n",
    "        'count': 0\n",
    "    },\n",
    "    100: {\n",
    "        'RMSE': [],\n",
    "        'count': 0\n",
    "    },\n",
    "    125: {\n",
    "        'RMSE': [],\n",
    "        'count': 0\n",
    "    },\n",
    "    150: {\n",
    "        'RMSE': [],\n",
    "        'count': 0\n",
    "    },\n",
    "    175: {\n",
    "        'RMSE': [],\n",
    "        'count': 0\n",
    "    },\n",
    "    200: {\n",
    "        'RMSE': [],\n",
    "        'count': 0\n",
    "    },\n",
    "    999: {\n",
    "        'RMSE': [],\n",
    "        'count': 0\n",
    "    }\n",
    "}\n",
    "\n",
    "for idx, item in enumerate(ori_list):\n",
    "    ans = item['text2']\n",
    "    gold, pred = pred_gold_list[idx].split('\\t')\n",
    "    length = len(ans)\n",
    "    for key in slot:\n",
    "        if length > key:\n",
    "            continue\n",
    "        else:\n",
    "            slot[key]['count'] += 1\n",
    "            slot[key]['RMSE'].append(RMSE(float(pred), float(gold)))\n",
    "            break\n",
    "\n",
    "for key in slot:\n",
    "    print('<={}: count: {}, rmse: {:.3f}'.format(key, slot[key]['count'], math.sqrt(np.mean(slot[key]['RMSE']))))\n",
    "\n",
    "# %%\n"
   ]
  },
  {
   "cell_type": "markdown",
   "metadata": {},
   "source": [
    "### 分析不同评分对模型性能的影响"
   ]
  },
  {
   "cell_type": "code",
   "execution_count": null,
   "metadata": {},
   "outputs": [],
   "source": [
    "# %%\n",
    "import math\n",
    "import numpy as np\n",
    "\n",
    "def RMSE(x, y):\n",
    "    return (x - y) ** 2\n",
    "\n",
    "def print_model_rmse_in_gold_dis(model_list=[], dataset_name='sas'):\n",
    "    for model in model_list:\n",
    "        with open('./log/{}/{}/predict_gold.csv'.format(dataset_name, model)) as f:\n",
    "            pred_gold_list = f.read()\n",
    "            pred_gold_list = pred_gold_list.split('\\n')\n",
    "            if pred_gold_list[-1] == '':\n",
    "                pred_gold_list = pred_gold_list[:-1]\n",
    "\n",
    "        slot = {\n",
    "            0.2: {\n",
    "                'RMSE': [],\n",
    "                'count': 0\n",
    "            },\n",
    "            0.4: {\n",
    "                'RMSE': [],\n",
    "                'count': 0\n",
    "            },\n",
    "            0.6: {\n",
    "                'RMSE': [],\n",
    "                'count': 0\n",
    "            },\n",
    "            0.8: {\n",
    "                'RMSE': [],\n",
    "                'count': 0\n",
    "            },\n",
    "            1.2: {\n",
    "                'RMSE': [],\n",
    "                'count': 0\n",
    "            }\n",
    "        }\n",
    "\n",
    "        for idx, line in enumerate(pred_gold_list):\n",
    "            gold, pred = pred_gold_list[idx].split('\\t')\n",
    "            for key in slot:\n",
    "                if float(gold) > key:\n",
    "                    continue\n",
    "                else:\n",
    "                    slot[key]['count'] += 1\n",
    "                    slot[key]['RMSE'].append(RMSE(float(pred), float(gold)))\n",
    "                    break\n",
    "        \n",
    "        print('{}:'.format(model))\n",
    "        for key in slot:\n",
    "            print('<={}: count: {}, rmse: {:.3f}'.format(key, slot[key]['count'], math.sqrt(np.mean(slot[key]['RMSE']))))\n"
   ]
  },
  {
   "cell_type": "code",
   "execution_count": null,
   "metadata": {},
   "outputs": [],
   "source": [
    "print_model_rmse_in_gold_dis(['wssbert', 'abcnn', 'albert', 'bert', 'bimpm', 'esim', 'roberta', 'sbert', 'xlnet'], 'sts')"
   ]
  },
  {
   "cell_type": "code",
   "execution_count": null,
   "metadata": {},
   "outputs": [],
   "source": [
    "print_model_rmse_in_gold_dis(['wssbert'], 'sag')"
   ]
  }
 ],
 "metadata": {
  "interpreter": {
   "hash": "1e1e097b6c3c5a2a39328ddbc7de6327b7bd71c15618bc750f041eecacee4167"
  },
  "kernelspec": {
   "display_name": "Python 3.8.10 ('pcpower')",
   "language": "python",
   "name": "python3"
  },
  "language_info": {
   "codemirror_mode": {
    "name": "ipython",
    "version": 3
   },
   "file_extension": ".py",
   "mimetype": "text/x-python",
   "name": "python",
   "nbconvert_exporter": "python",
   "pygments_lexer": "ipython3",
   "version": "3.8.10"
  },
  "orig_nbformat": 4
 },
 "nbformat": 4,
 "nbformat_minor": 2
}
